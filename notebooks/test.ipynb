{
 "cells": [
  {
   "cell_type": "markdown",
   "metadata": {},
   "source": [
    "# Результаты выполнения моделей и получение данных из MLFlow"
   ]
  },
  {
   "cell_type": "code",
   "execution_count": 12,
   "metadata": {},
   "outputs": [],
   "source": [
    "import os\n",
    "import mlflow\n",
    "from dotenv import load_dotenv\n",
    "\n",
    "from src.utils import setup_env"
   ]
  },
  {
   "cell_type": "markdown",
   "metadata": {},
   "source": [
    "Для получения информации из MLFlow нам потребуется клиент: `mlflow.MLflowClient()`. Данная сущность позволяет получать данные о зарегистрированных моделях, о проводимых экспериментах или запусках и т.д."
   ]
  },
  {
   "cell_type": "code",
   "execution_count": 13,
   "metadata": {},
   "outputs": [
    {
     "name": "stdout",
     "output_type": "stream",
     "text": [
      "<ModelVersion: aliases=[], creation_timestamp=1720114714969, current_stage='Production', description='', last_updated_timestamp=1720115129548, name='churn_model_sarcasm_TEST_baseline', run_id='e1785754ad8b46f7ba7cb722d1add4d1', run_link='', source='s3://s3-student-mle-20240516-f84ce5456d/8/e1785754ad8b46f7ba7cb722d1add4d1/artifacts/via_models', status='READY', status_message='', tags={}, user_id='', version='2'>\n",
      "<ModelVersion: aliases=[], creation_timestamp=1720094653479, current_stage='Archived', description='', last_updated_timestamp=1720115111246, name='churn_model_sarcasm_TEST_baseline', run_id='b007a2a8021745d5ae68396c541ecc75', run_link='', source='s3://s3-student-mle-20240516-f84ce5456d/8/b007a2a8021745d5ae68396c541ecc75/artifacts/via_models', status='READY', status_message='', tags={}, user_id='', version='1'>\n"
     ]
    }
   ],
   "source": [
    "load_dotenv()\n",
    "setup_env()\n",
    "client = mlflow.MlflowClient() \n",
    "# Получим информацию о всех моделях с определенным именем REGISTRY_MODEL_NAME\n",
    "models = client.search_model_versions(\n",
    "    filter_string=f\"name = '{os.environ.get('REGISTRY_MODEL_NAME')}_baseline'\"\n",
    ")\n",
    "\n",
    "for model in models:\n",
    "    print(model) "
   ]
  },
  {
   "cell_type": "code",
   "execution_count": 17,
   "metadata": {},
   "outputs": [],
   "source": [
    "models = client.get_registered_model(f\"{os.environ.get('REGISTRY_MODEL_NAME')}_baseline\")"
   ]
  },
  {
   "cell_type": "code",
   "execution_count": 27,
   "metadata": {},
   "outputs": [
    {
     "data": {
      "text/plain": [
       "'s3://s3-student-mle-20240516-f84ce5456d/8/b007a2a8021745d5ae68396c541ecc75/artifacts/via_models'"
      ]
     },
     "execution_count": 27,
     "metadata": {},
     "output_type": "execute_result"
    }
   ],
   "source": [
    "# Так мы можем получить расположение нашей модели для последующего ее использования\n",
    "models[-1].source"
   ]
  },
  {
   "cell_type": "code",
   "execution_count": 8,
   "metadata": {},
   "outputs": [
    {
     "name": "stdout",
     "output_type": "stream",
     "text": [
      "Текущий stage последней модели: Archived\n",
      "Текущий stage предпоследней модели 2: Production\n"
     ]
    }
   ],
   "source": [
    "# Так мы можем получать основную информацию о моделях\n",
    "model_name_1 = models[-1].name\n",
    "model_version_1 = models[-1].version\n",
    "model_stage_1 = models[-1].current_stage\n",
    "\n",
    "model_name_2 = models[-2].name\n",
    "model_version_2 = models[-2].version\n",
    "model_stage_2 = models[-2].current_stage\n",
    "\n",
    "print(f\"Текущий stage последней модели: {model_stage_1}\")\n",
    "print(f\"Текущий stage предпоследней модели 2: {model_stage_2}\")"
   ]
  },
  {
   "cell_type": "code",
   "execution_count": 4,
   "metadata": {},
   "outputs": [
    {
     "data": {
      "text/plain": [
       "<ModelVersion: aliases=[], creation_timestamp=1720114714969, current_stage='Staging', description='', last_updated_timestamp=1720115065034, name='churn_model_sarcasm_TEST_baseline', run_id='e1785754ad8b46f7ba7cb722d1add4d1', run_link='', source='s3://s3-student-mle-20240516-f84ce5456d/8/e1785754ad8b46f7ba7cb722d1add4d1/artifacts/via_models', status='READY', status_message='', tags={}, user_id='', version='2'>"
      ]
     },
     "execution_count": 4,
     "metadata": {},
     "output_type": "execute_result"
    }
   ],
   "source": [
    "# Так мы можем менять `staging` моделей\n",
    "# Помните, что при переводе какой-то версии модели в \"production\", предыдущая версия \"production\" переводится в архив\n",
    "client.transition_model_version_stage(model_name_1, model_version_1, \"production\")\n",
    "client.transition_model_version_stage(model_name_2, model_version_2, \"staging\")"
   ]
  },
  {
   "cell_type": "code",
   "execution_count": null,
   "metadata": {},
   "outputs": [],
   "source": []
  }
 ],
 "metadata": {
  "kernelspec": {
   "display_name": "Python 3 (ipykernel)",
   "language": "python",
   "name": "python3"
  },
  "language_info": {
   "codemirror_mode": {
    "name": "ipython",
    "version": 3
   },
   "file_extension": ".py",
   "mimetype": "text/x-python",
   "name": "python",
   "nbconvert_exporter": "python",
   "pygments_lexer": "ipython3",
   "version": "3.10.0"
  }
 },
 "nbformat": 4,
 "nbformat_minor": 2
}
