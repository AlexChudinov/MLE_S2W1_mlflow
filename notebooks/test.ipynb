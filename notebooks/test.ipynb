{
 "cells": [
  {
   "cell_type": "code",
   "execution_count": 21,
   "metadata": {},
   "outputs": [],
   "source": [
    "import os\n",
    "import mlflow\n",
    "from dotenv import load_dotenv\n",
    "\n",
    "from src.utils import setup_env"
   ]
  },
  {
   "cell_type": "code",
   "execution_count": 2,
   "metadata": {},
   "outputs": [],
   "source": []
  },
  {
   "cell_type": "code",
   "execution_count": null,
   "metadata": {},
   "outputs": [],
   "source": [
    "churn_model_sarcasm_TEST_baseline"
   ]
  },
  {
   "cell_type": "code",
   "execution_count": 25,
   "metadata": {},
   "outputs": [
    {
     "name": "stdout",
     "output_type": "stream",
     "text": [
      "<ModelVersion: aliases=[], creation_timestamp=1720094653479, current_stage='None', description='', last_updated_timestamp=1720094653479, name='churn_model_sarcasm_TEST_baseline', run_id='b007a2a8021745d5ae68396c541ecc75', run_link='', source='s3://s3-student-mle-20240516-f84ce5456d/8/b007a2a8021745d5ae68396c541ecc75/artifacts/via_models', status='READY', status_message='', tags={}, user_id='', version='1'>\n"
     ]
    }
   ],
   "source": [
    "load_dotenv()\n",
    "setup_env()\n",
    "client = mlflow.MlflowClient() \n",
    "models = client.search_model_versions(\n",
    "    filter_string=f\"name = '{os.environ.get('REGISTRY_MODEL_NAME')}_baseline'\"\n",
    ")\n",
    "\n",
    "for model in models:\n",
    "    print(model) "
   ]
  },
  {
   "cell_type": "code",
   "execution_count": null,
   "metadata": {},
   "outputs": [],
   "source": [
    "tag_key = \"tags.'ab test'\"\n",
    "tag_value = \"' ab '\"\n",
    "filter_string = f\"{tag_key} ILIKE {tag_value}\"\n",
    "results = client.search_model_versions(filter_string)"
   ]
  },
  {
   "cell_type": "code",
   "execution_count": null,
   "metadata": {},
   "outputs": [],
   "source": [
    "model_name_1 = models[-1].name\n",
    "model_version_1 = models[-1].version\n",
    "model_stage_1 = models[-1].current_stage\n",
    "\n",
    "model_name_2 = models[-2].name\n",
    "model_version_2 = models[-2].version\n",
    "model_stage_2 = models[-2].current_stage\n",
    "\n",
    "print(f\"Текущий stage последней модели: {model_stage_1}\")\n",
    "print(f\"Текущий stage предпоследней модели 2: {model_stage_2}\")"
   ]
  },
  {
   "cell_type": "code",
   "execution_count": null,
   "metadata": {},
   "outputs": [],
   "source": [
    "client.transition_model_version_stage(model_name_1, model_version_1, \"production\")\n",
    "client.transition_model_version_stage(model_name_2, model_version_2, \"staging\")"
   ]
  },
  {
   "cell_type": "code",
   "execution_count": null,
   "metadata": {},
   "outputs": [],
   "source": []
  }
 ],
 "metadata": {
  "kernelspec": {
   "display_name": "Python 3 (ipykernel)",
   "language": "python",
   "name": "python3"
  },
  "language_info": {
   "codemirror_mode": {
    "name": "ipython",
    "version": 3
   },
   "file_extension": ".py",
   "mimetype": "text/x-python",
   "name": "python",
   "nbconvert_exporter": "python",
   "pygments_lexer": "ipython3",
   "version": "3.10.0"
  }
 },
 "nbformat": 4,
 "nbformat_minor": 2
}
